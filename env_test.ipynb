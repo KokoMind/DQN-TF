{
 "cells": [
  {
   "cell_type": "code",
   "execution_count": 1,
   "metadata": {
    "collapsed": false
   },
   "outputs": [],
   "source": [
    "from environment import Environment\n",
    "import tensorflow as tf"
   ]
  },
  {
   "cell_type": "code",
   "execution_count": 2,
   "metadata": {
    "collapsed": false
   },
   "outputs": [
    {
     "name": "stderr",
     "output_type": "stream",
     "text": [
      "[2017-02-10 20:35:48,618] Making new env: Breakout-v0\n"
     ]
    }
   ],
   "source": [
    "state_processor_params = { \"resize_shape\": (84, 84), \"crop_box\": (34, 0, 160, 160), \"gray\": True, \"frames_num\": 4 }\n",
    "env = Environment('Breakout-v0', './expriment', state_processor_params)"
   ]
  },
  {
   "cell_type": "code",
   "execution_count": 3,
   "metadata": {
    "collapsed": false
   },
   "outputs": [
    {
     "name": "stderr",
     "output_type": "stream",
     "text": [
      "[2017-02-10 20:35:48,925] Starting new video recorder writing to /Volumes/HDD/Users/Omar/ML/DQN-tf/expriment/monitor/openaigym.video.0.7566.video000000.mp4\n"
     ]
    },
    {
     "name": "stdout",
     "output_type": "stream",
     "text": [
      "(84, 84, 4)\n",
      "2\n",
      "(84, 84, 4)\n"
     ]
    }
   ],
   "source": [
    "sess = tf.Session()\n",
    "\n",
    "state = env.reset(sess)\n",
    "print (state.shape)\n",
    "\n",
    "action = env.sample_action()\n",
    "print (action)\n",
    "\n",
    "next_state, reward, done = env.step(sess, action)\n",
    "print (next_state.shape)"
   ]
  },
  {
   "cell_type": "code",
   "execution_count": null,
   "metadata": {
    "collapsed": true
   },
   "outputs": [],
   "source": []
  }
 ],
 "metadata": {
  "kernelspec": {
   "display_name": "Python 3",
   "language": "python",
   "name": "python3"
  },
  "language_info": {
   "codemirror_mode": {
    "name": "ipython",
    "version": 3
   },
   "file_extension": ".py",
   "mimetype": "text/x-python",
   "name": "python",
   "nbconvert_exporter": "python",
   "pygments_lexer": "ipython3",
   "version": "3.5.2"
  }
 },
 "nbformat": 4,
 "nbformat_minor": 2
}
