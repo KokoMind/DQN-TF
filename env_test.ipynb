{
 "cells": [
  {
   "cell_type": "code",
   "execution_count": 1,
   "metadata": {
    "collapsed": false,
    "deletable": true,
    "editable": true
   },
   "outputs": [],
   "source": [
    "%matplotlib inline\n",
    "\n",
    "from environment import Environment\n",
    "from config import get_config\n",
    "import tensorflow as tf\n",
    "import matplotlib.pyplot as plt"
   ]
  },
  {
   "cell_type": "code",
   "execution_count": 2,
   "metadata": {
    "collapsed": false,
    "deletable": true,
    "editable": true
   },
   "outputs": [
    {
     "name": "stderr",
     "output_type": "stream",
     "text": [
      "[2017-02-11 12:57:34,158] Making new env: Breakout-v0\n"
     ]
    }
   ],
   "source": [
    "sess = tf.Session()\n",
    "config = get_config()\n",
    "env = Environment(sess, config)"
   ]
  },
  {
   "cell_type": "code",
   "execution_count": 3,
   "metadata": {
    "collapsed": false,
    "deletable": true,
    "editable": true
   },
   "outputs": [
    {
     "name": "stderr",
     "output_type": "stream",
     "text": [
      "[2017-02-11 12:57:34,365] Starting new video recorder writing to /Volumes/HDD/Users/Omar/ML/DQN-tf/expriment/monitor/openaigym.video.0.5452.video000000.mp4\n"
     ]
    },
    {
     "name": "stdout",
     "output_type": "stream",
     "text": [
      "[0, 1, 2, 3, 4, 5]\n",
      "(84, 84, 4)\n",
      "4\n",
      "(84, 84, 4)\n"
     ]
    }
   ],
   "source": [
    "print (env.valid_actions)\n",
    "\n",
    "state = env.reset()\n",
    "print (state.shape)\n",
    "\n",
    "action = env.sample_action()\n",
    "print (action)\n",
    "\n",
    "next_state, reward, done = env.step(action)\n",
    "print (next_state.shape)"
   ]
  },
  {
   "cell_type": "code",
   "execution_count": 4,
   "metadata": {
    "collapsed": false,
    "deletable": true,
    "editable": true
   },
   "outputs": [
    {
     "data": {
      "image/png": "[encoded data removed]",
      "text/plain": [
       "<matplotlib.figure.Figure at 0x10d7e2908>"
      ]
     },
     "metadata": {},
     "output_type": "display_data"
    }
   ],
   "source": [
    "fig = plt.figure()\n",
    "\n",
    "a=fig.add_subplot(1,4,1)\n",
    "imgplot = plt.imshow(state[:,:,0], cmap='gray')\n",
    "\n",
    "a=fig.add_subplot(1,4,2)\n",
    "imgplot = plt.imshow(state[:,:,1], cmap='gray')\n",
    "\n",
    "a=fig.add_subplot(1,4,3)\n",
    "imgplot = plt.imshow(state[:,:,2], cmap='gray')\n",
    "\n",
    "a=fig.add_subplot(1,4,4)\n",
    "imgplot = plt.imshow(state[:,:,3], cmap='gray')"
   ]
  },
  {
   "cell_type": "code",
   "execution_count": 5,
   "metadata": {
    "collapsed": false,
    "deletable": true,
    "editable": true
   },
   "outputs": [
    {
     "data": {
      "image/png": "[encoded data removed]",
      "text/plain": [
       "<matplotlib.figure.Figure at 0x10d7e26a0>"
      ]
     },
     "metadata": {},
     "output_type": "display_data"
    }
   ],
   "source": [
    "fig = plt.figure()\n",
    "\n",
    "a=fig.add_subplot(1,4,1)\n",
    "imgplot = plt.imshow(next_state[:,:,0], cmap='gray')\n",
    "\n",
    "a=fig.add_subplot(1,4,2)\n",
    "imgplot = plt.imshow(next_state[:,:,1], cmap='gray')\n",
    "\n",
    "a=fig.add_subplot(1,4,3)\n",
    "imgplot = plt.imshow(next_state[:,:,2], cmap='gray')\n",
    "\n",
    "a=fig.add_subplot(1,4,4)\n",
    "imgplot = plt.imshow(next_state[:,:,3], cmap='gray')"
   ]
  },
  {
   "cell_type": "code",
   "execution_count": null,
   "metadata": {
    "collapsed": true,
    "deletable": true,
    "editable": true
   },
   "outputs": [],
   "source": []
  }
 ],
 "metadata": {
  "kernelspec": {
   "display_name": "Python 3",
   "language": "python",
   "name": "python3"
  },
  "language_info": {
   "codemirror_mode": {
    "name": "ipython",
    "version": 3
   },
   "file_extension": ".py",
   "mimetype": "text/x-python",
   "name": "python",
   "nbconvert_exporter": "python",
   "pygments_lexer": "ipython3",
   "version": "3.5.2"
  }
 },
 "nbformat": 4,
 "nbformat_minor": 0
}
