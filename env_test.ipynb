{
 "cells": [
  {
   "cell_type": "code",
   "execution_count": 1,
   "metadata": {
    "collapsed": false,
    "deletable": true,
    "editable": true
   },
   "outputs": [],
   "source": [
    "%matplotlib inline\n",
    "\n",
    "from environment import Environment\n",
    "import tensorflow as tf\n",
    "import matplotlib.pyplot as plt"
   ]
  },
  {
   "cell_type": "code",
   "execution_count": 2,
   "metadata": {
    "collapsed": false,
    "deletable": true,
    "editable": true
   },
   "outputs": [
    {
     "name": "stderr",
     "output_type": "stream",
     "text": [
      "[2017-02-10 22:08:21,096] Making new env: Breakout-v0\n"
     ]
    }
   ],
   "source": [
    "state_processor_params = { \"resize_shape\": (84, 84), \"crop_box\": (34, 0, 160, 160), \"gray\": True, \"frames_num\": 4 }\n",
    "env = Environment('Breakout-v0', './expriment', state_processor_params)"
   ]
  },
  {
   "cell_type": "code",
   "execution_count": 3,
   "metadata": {
    "collapsed": false,
    "deletable": true,
    "editable": true
   },
   "outputs": [
    {
     "name": "stderr",
     "output_type": "stream",
     "text": [
      "[2017-02-10 22:08:21,279] Starting new video recorder writing to /Volumes/HDD/Users/Omar/ML/DQN-tf/expriment/monitor/openaigym.video.0.8668.video000000.mp4\n"
     ]
    },
    {
     "name": "stdout",
     "output_type": "stream",
     "text": [
      "[0, 1, 2, 3, 4, 5]\n",
      "(84, 84, 4)\n",
      "5\n",
      "(84, 84, 4)\n"
     ]
    }
   ],
   "source": [
    "sess = tf.Session()\n",
    "\n",
    "print (env.valid_actions)\n",
    "\n",
    "state = env.reset(sess)\n",
    "print (state.shape)\n",
    "\n",
    "action = env.sample_action()\n",
    "print (action)\n",
    "\n",
    "next_state, reward, done = env.step(sess, action)\n",
    "print (next_state.shape)"
   ]
  },
  {
   "cell_type": "code",
   "execution_count": 4,
   "metadata": {
    "collapsed": false,
    "deletable": true,
    "editable": true
   },
   "outputs": [
    {
     "data": {
      "image/png": "[encoded data removed]",
      "text/plain": [
       "<matplotlib.figure.Figure at 0x10d6e5588>"
      ]
     },
     "metadata": {},
     "output_type": "display_data"
    }
   ],
   "source": [
    "fig = plt.figure()\n",
    "\n",
    "a=fig.add_subplot(1,4,1)\n",
    "imgplot = plt.imshow(state[:,:,0])\n",
    "\n",
    "a=fig.add_subplot(1,4,2)\n",
    "imgplot = plt.imshow(state[:,:,1])\n",
    "\n",
    "a=fig.add_subplot(1,4,3)\n",
    "imgplot = plt.imshow(state[:,:,2])\n",
    "\n",
    "a=fig.add_subplot(1,4,4)\n",
    "imgplot = plt.imshow(state[:,:,3])"
   ]
  },
  {
   "cell_type": "code",
   "execution_count": 5,
   "metadata": {
    "collapsed": false,
    "deletable": true,
    "editable": true
   },
   "outputs": [
    {
     "data": {
      "image/png": "[encoded data removed]",
      "text/plain": [
       "<matplotlib.figure.Figure at 0x10dbd5048>"
      ]
     },
     "metadata": {},
     "output_type": "display_data"
    }
   ],
   "source": [
    "fig = plt.figure()\n",
    "\n",
    "a=fig.add_subplot(1,4,1)\n",
    "imgplot = plt.imshow(next_state[:,:,0])\n",
    "\n",
    "a=fig.add_subplot(1,4,2)\n",
    "imgplot = plt.imshow(next_state[:,:,1])\n",
    "\n",
    "a=fig.add_subplot(1,4,3)\n",
    "imgplot = plt.imshow(next_state[:,:,2])\n",
    "\n",
    "a=fig.add_subplot(1,4,4)\n",
    "imgplot = plt.imshow(next_state[:,:,3])"
   ]
  },
  {
   "cell_type": "code",
   "execution_count": null,
   "metadata": {
    "collapsed": true,
    "deletable": true,
    "editable": true
   },
   "outputs": [],
   "source": []
  }
 ],
 "metadata": {
  "kernelspec": {
   "display_name": "Python 3",
   "language": "python",
   "name": "python3"
  },
  "language_info": {
   "codemirror_mode": {
    "name": "ipython",
    "version": 3
   },
   "file_extension": ".py",
   "mimetype": "text/x-python",
   "name": "python",
   "nbconvert_exporter": "python",
   "pygments_lexer": "ipython3",
   "version": "3.5.2"
  }
 },
 "nbformat": 4,
 "nbformat_minor": 2
}
